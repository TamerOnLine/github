{
 "cells": [
  {
   "cell_type": "code",
   "execution_count": 8,
   "metadata": {},
   "outputs": [
    {
     "name": "stdout",
     "output_type": "stream",
     "text": [
      "Reinitialized existing Git repository in F:/git tools/.git/\n"
     ]
    }
   ],
   "source": [
    "!git init"
   ]
  },
  {
   "cell_type": "code",
   "execution_count": 9,
   "metadata": {},
   "outputs": [
    {
     "name": "stderr",
     "output_type": "stream",
     "text": [
      "warning: in the working copy of 'setgit.ipynb', LF will be replaced by CRLF the next time Git touches it\n"
     ]
    }
   ],
   "source": [
    "!git add ."
   ]
  },
  {
   "cell_type": "code",
   "execution_count": 10,
   "metadata": {},
   "outputs": [],
   "source": [
    "commits = \"v01\""
   ]
  },
  {
   "cell_type": "code",
   "execution_count": 11,
   "metadata": {},
   "outputs": [
    {
     "name": "stdout",
     "output_type": "stream",
     "text": [
      "[main 67f10f2] commits\n",
      " 1 file changed, 36 insertions(+), 17 deletions(-)\n"
     ]
    }
   ],
   "source": [
    "!git commit -m commits"
   ]
  },
  {
   "cell_type": "code",
   "execution_count": 12,
   "metadata": {},
   "outputs": [
    {
     "name": "stdout",
     "output_type": "stream",
     "text": [
      "https://github.com/TamerOnLine/github.git\n"
     ]
    }
   ],
   "source": [
    "!git remote get-url origin || git remote add origin github"
   ]
  },
  {
   "cell_type": "code",
   "execution_count": 13,
   "metadata": {},
   "outputs": [],
   "source": [
    "!git branch -M main"
   ]
  },
  {
   "cell_type": "code",
   "execution_count": 14,
   "metadata": {},
   "outputs": [
    {
     "name": "stderr",
     "output_type": "stream",
     "text": [
      "To https://github.com/TamerOnLine/github.git\n",
      " ! [rejected]        main -> main (fetch first)\n",
      "error: failed to push some refs to 'https://github.com/TamerOnLine/github.git'\n",
      "hint: Updates were rejected because the remote contains work that you do not\n",
      "hint: have locally. This is usually caused by another repository pushing to\n",
      "hint: the same ref. If you want to integrate the remote changes, use\n",
      "hint: 'git pull' before pushing again.\n",
      "hint: See the 'Note about fast-forwards' in 'git push --help' for details.\n"
     ]
    }
   ],
   "source": [
    "!git push -u origin main"
   ]
  },
  {
   "cell_type": "code",
   "execution_count": 15,
   "metadata": {},
   "outputs": [
    {
     "name": "stdout",
     "output_type": "stream",
     "text": [
      "Merge made by the 'ort' strategy.\n",
      " README.md | 1 +\n",
      " 1 file changed, 1 insertion(+)\n",
      " create mode 100644 README.md\n"
     ]
    },
    {
     "name": "stderr",
     "output_type": "stream",
     "text": [
      "From https://github.com/TamerOnLine/github\n",
      " * branch            main       -> FETCH_HEAD\n",
      "   386352a..249780d  main       -> origin/main\n",
      "warning: in the working copy of 'setgit.ipynb', LF will be replaced by CRLF the next time Git touches it\n",
      "warning: in the working copy of 'setgit.ipynb', LF will be replaced by CRLF the next time Git touches it\n"
     ]
    },
    {
     "name": "stdout",
     "output_type": "stream",
     "text": [
      "[main d8919a9] Resolved merge conflicts\n",
      " 1 file changed, 9 insertions(+), 10 deletions(-)\n"
     ]
    },
    {
     "name": "stderr",
     "output_type": "stream",
     "text": [
      "To https://github.com/TamerOnLine/github.git\n",
      "   249780d..d8919a9  main -> main\n"
     ]
    }
   ],
   "source": [
    "!git pull origin main\n",
    "\n",
    "!git add .\n",
    "\n",
    "!git commit -m \"Resolved merge conflicts\"\n",
    "\n",
    "!git push origin main\n"
   ]
  }
 ],
 "metadata": {
  "kernelspec": {
   "display_name": "Python 3",
   "language": "python",
   "name": "python3"
  },
  "language_info": {
   "codemirror_mode": {
    "name": "ipython",
    "version": 3
   },
   "file_extension": ".py",
   "mimetype": "text/x-python",
   "name": "python",
   "nbconvert_exporter": "python",
   "pygments_lexer": "ipython3",
   "version": "3.12.6"
  }
 },
 "nbformat": 4,
 "nbformat_minor": 2
}
